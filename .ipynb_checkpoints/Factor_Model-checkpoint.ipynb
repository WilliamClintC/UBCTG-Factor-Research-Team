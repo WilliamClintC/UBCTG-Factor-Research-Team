{
 "cells": [
  {
   "cell_type": "markdown",
   "id": "f623ff5c-f8e1-4442-b4e8-18f2037b10de",
   "metadata": {},
   "source": [
    "<Header> This is is where we develop a baseline factor model that allows us to take certain factors and use them in multi-OLS regression to predict our excess return signals on a security level. These signals are absolute. </Header>"
   ]
  },
  {
   "cell_type": "code",
   "execution_count": 1,
   "id": "9c4a69f3-3cbf-4611-bcb6-873c4e4020b7",
   "metadata": {},
   "outputs": [],
   "source": [
    "#First, import our packages for the database connection and dataframe access\n",
    "import mysql.connector\n",
    "import pandas as pd\n",
    "import statsmodels.api as sm\n",
    "import numpy as np\n",
    "import warnings\n",
    "from datetime import datetime, timedelta"
   ]
  },
  {
   "cell_type": "code",
   "execution_count": 2,
   "id": "6d17be18-1e1f-4c33-867e-3bb0270b3a6e",
   "metadata": {},
   "outputs": [],
   "source": [
    "#Ignore warnings and set max row display option\n",
    "warnings.filterwarnings(\"ignore\")\n",
    "pd.set_option('display.max_rows', 50)\n"
   ]
  },
  {
   "cell_type": "code",
   "execution_count": 3,
   "id": "47003839-a5a3-44f2-96f8-71283b57aeff",
   "metadata": {},
   "outputs": [],
   "source": [
    "# Connect to MySQL database\n",
    "connection = mysql.connector.connect(\n",
    "    host=\"ubctg.con7266gcvin.us-east-2.rds.amazonaws.com\",\n",
    "    user=\"admin\",\n",
    "    password=\"ubctgquant\",\n",
    "    database=\"ubctg\"\n",
    ")"
   ]
  },
  {
   "cell_type": "markdown",
   "id": "5810ea6d-5c42-4cc7-a604-c39ef9ca7b4a",
   "metadata": {},
   "source": [
    "Here, we pull monthly returns across the stock universe over 10 years from 2011 to 2021"
   ]
  },
  {
   "cell_type": "code",
   "execution_count": 4,
   "id": "79941fa5-f63f-413b-bf06-487a9c135368",
   "metadata": {},
   "outputs": [
    {
     "data": {
      "text/plain": [
       "True"
      ]
     },
     "execution_count": 4,
     "metadata": {},
     "output_type": "execute_result"
    }
   ],
   "source": [
    "# Create a cursor object to execute SQL queries\n",
    "cursor = connection.cursor()\n",
    "\n",
    "# Define the start and end dates\n",
    "start_date = '2010-12-01'\n",
    "end_date = '2021-01-31'\n",
    "\n",
    "# SQL query to retrieve data from the \"Volatility\" table between two dates\n",
    "sql_query = f\"SELECT * FROM `Monthly Returns` mr WHERE Date BETWEEN '{start_date}' AND '{end_date}'\"\n",
    "\n",
    "# Execute the SQL query\n",
    "cursor.execute(sql_query)\n",
    "\n",
    "# Fetch all rows from the result set\n",
    "universe_data = cursor.fetchall()\n",
    "\n",
    "# Convert fetched data into a pandas DataFrame\n",
    "columns = [i[0] for i in cursor.description]  # Extract column names from cursor description\n",
    "\n",
    "#create new df\n",
    "universe_df = pd.DataFrame(universe_data, columns=columns)\n",
    "\n",
    "#close cursor and db connection\n",
    "cursor.close()"
   ]
  },
  {
   "cell_type": "markdown",
   "id": "a5f68ab0-defa-4fa5-9b1b-047f9b024028",
   "metadata": {},
   "source": [
    "Generate the number of observations per security in our table. This way we can remove those that do not have a full dataset"
   ]
  },
  {
   "cell_type": "code",
   "execution_count": 5,
   "id": "17c2e210-9703-44cb-8f27-981f24f2ce4d",
   "metadata": {},
   "outputs": [
    {
     "data": {
      "text/html": [
       "<div>\n",
       "<style scoped>\n",
       "    .dataframe tbody tr th:only-of-type {\n",
       "        vertical-align: middle;\n",
       "    }\n",
       "\n",
       "    .dataframe tbody tr th {\n",
       "        vertical-align: top;\n",
       "    }\n",
       "\n",
       "    .dataframe thead th {\n",
       "        text-align: right;\n",
       "    }\n",
       "</style>\n",
       "<table border=\"1\" class=\"dataframe\">\n",
       "  <thead>\n",
       "    <tr style=\"text-align: right;\">\n",
       "      <th></th>\n",
       "      <th>COUNT(PERMNO)</th>\n",
       "      <th>PERMNO</th>\n",
       "    </tr>\n",
       "  </thead>\n",
       "  <tbody>\n",
       "    <tr>\n",
       "      <th>0</th>\n",
       "      <td>81</td>\n",
       "      <td>10001</td>\n",
       "    </tr>\n",
       "    <tr>\n",
       "      <th>1</th>\n",
       "      <td>27</td>\n",
       "      <td>10002</td>\n",
       "    </tr>\n",
       "    <tr>\n",
       "      <th>2</th>\n",
       "      <td>75</td>\n",
       "      <td>10025</td>\n",
       "    </tr>\n",
       "    <tr>\n",
       "      <th>3</th>\n",
       "      <td>122</td>\n",
       "      <td>10026</td>\n",
       "    </tr>\n",
       "    <tr>\n",
       "      <th>4</th>\n",
       "      <td>122</td>\n",
       "      <td>10028</td>\n",
       "    </tr>\n",
       "    <tr>\n",
       "      <th>...</th>\n",
       "      <td>...</td>\n",
       "      <td>...</td>\n",
       "    </tr>\n",
       "    <tr>\n",
       "      <th>12669</th>\n",
       "      <td>7</td>\n",
       "      <td>93432</td>\n",
       "    </tr>\n",
       "    <tr>\n",
       "      <th>12670</th>\n",
       "      <td>73</td>\n",
       "      <td>93433</td>\n",
       "    </tr>\n",
       "    <tr>\n",
       "      <th>12671</th>\n",
       "      <td>122</td>\n",
       "      <td>93434</td>\n",
       "    </tr>\n",
       "    <tr>\n",
       "      <th>12672</th>\n",
       "      <td>18</td>\n",
       "      <td>93435</td>\n",
       "    </tr>\n",
       "    <tr>\n",
       "      <th>12673</th>\n",
       "      <td>122</td>\n",
       "      <td>93436</td>\n",
       "    </tr>\n",
       "  </tbody>\n",
       "</table>\n",
       "<p>12674 rows × 2 columns</p>\n",
       "</div>"
      ],
      "text/plain": [
       "       COUNT(PERMNO)  PERMNO\n",
       "0                 81   10001\n",
       "1                 27   10002\n",
       "2                 75   10025\n",
       "3                122   10026\n",
       "4                122   10028\n",
       "...              ...     ...\n",
       "12669              7   93432\n",
       "12670             73   93433\n",
       "12671            122   93434\n",
       "12672             18   93435\n",
       "12673            122   93436\n",
       "\n",
       "[12674 rows x 2 columns]"
      ]
     },
     "execution_count": 5,
     "metadata": {},
     "output_type": "execute_result"
    }
   ],
   "source": [
    "# Create a cursor object to execute SQL queries\n",
    "cursor = connection.cursor()\n",
    "\n",
    "# Define the start and end dates\n",
    "start_date = '2010-12-01'\n",
    "end_date = '2021-01-31'\n",
    "\n",
    "# SQL query to retrieve data from the \"Volatility\" table between two dates\n",
    "sql_query = f\"SELECT COUNT(PERMNO), PERMNO FROM `Monthly Returns` mr WHERE Date BETWEEN '{start_date}' AND '{end_date}' GROUP BY PERMNO\"\n",
    "\n",
    "# Execute the SQL query\n",
    "cursor.execute(sql_query)\n",
    "\n",
    "# Fetch all rows from the result set\n",
    "observationTable_data = cursor.fetchall()\n",
    "\n",
    "# Convert fetched data into a pandas DataFrame\n",
    "columns = [i[0] for i in cursor.description]  # Extract column names from cursor description\n",
    "\n",
    "#create new df\n",
    "observation_df = pd.DataFrame(observationTable_data, columns=columns)\n",
    "\n",
    "#close cursor and db connection\n",
    "cursor.close()\n",
    "\n",
    "# Print the DataFrame\n",
    "observation_df"
   ]
  },
  {
   "cell_type": "markdown",
   "id": "25953b38-02ce-49d4-b7d8-2761f2bf8abf",
   "metadata": {},
   "source": [
    "Here, we remove securities that do not have enough observations (in our case, we look for at least 120)"
   ]
  },
  {
   "cell_type": "code",
   "execution_count": 6,
   "id": "7b89c583-b56a-4f9a-995c-90f4f2183df0",
   "metadata": {
    "scrolled": true
   },
   "outputs": [],
   "source": [
    "#Filter securities with at least 120 observations in the period\n",
    "observation_df_filtered = observation_df[pd.to_numeric(observation_df['COUNT(PERMNO)']) >=121]\n",
    "\n",
    "#Inner join our dataframes to only keep the securities we have data on\n",
    "universe_df_filtered = pd.merge(universe_df, observation_df_filtered, on='PERMNO', how='inner')"
   ]
  },
  {
   "cell_type": "markdown",
   "id": "d1bc8333-c612-4af9-a405-298e3772612d",
   "metadata": {},
   "source": [
    "We can now add a few factors to our model, in this case we will use GDP, CPI (inflation data), and the unemployment rate in each month. We then add it to our monthly returns dataframe for our OLS regression"
   ]
  },
  {
   "cell_type": "code",
   "execution_count": 7,
   "id": "a9a69fd4-a887-4229-9f71-72b85399c371",
   "metadata": {},
   "outputs": [],
   "source": [
    "#Introduce our factor data below as a CSV (pandas datareader not currently working for FRED api)\n",
    "macro_factors = pd.read_csv(\"UBCTG Factor Model Example - Macro FRED Data.csv\")\n",
    "\n",
    "#These dates are at the beginning of month, so we will operate on our monthly return dataframe to convert our dates to the beginning of the month so that we can append on index\n",
    "universe_df_filtered[\"date\"] = pd.to_datetime(universe_df_filtered[\"date\"]).dt.to_period('M').dt.to_timestamp()\n",
    "\n",
    "#Convert macro factors date column to type datetime64 and drop the non-datetime64 column\n",
    "macro_factors[\"date\"] = pd.to_datetime(macro_factors[\"DATE\"])\n",
    "macro_factors = macro_factors.drop('DATE', axis=1)\n",
    "\n",
    "#Inner-join macro factors dataframe with universe dataframe, using 'date' column as index\n",
    "universe_df_with_external_factors = pd.merge(universe_df_filtered, macro_factors, on= 'date', how='inner')\n",
    "\n",
    "#Ensure no errors in the returns column (there have been some instances where returns have taken on non-numeric values)\n",
    "universe_df_with_external_factors[\"RET\"] = pd.to_numeric(universe_df_with_external_factors[\"RET\"], errors=\"coerce\")"
   ]
  },
  {
   "cell_type": "code",
   "execution_count": 8,
   "id": "067395fe-9ae7-464d-b2c5-f3a9dacbc2c1",
   "metadata": {},
   "outputs": [],
   "source": [
    "#Create a blank row at the end of our dataframe to accomodate shifted data\n",
    "universe_df_with_external_factors_elongated = pd.concat([universe_df_with_external_factors, pd.DataFrame([[np.nan] * universe_df_with_external_factors.shape[1]], columns=universe_df_with_external_factors.columns)], ignore_index=True)\n",
    "\n",
    "#Shift our returns data forward by one period. This way, we regress \"t\" factors to \"t+1\" returns, and our betas become forecasts\n",
    "universe_df_with_external_factors_elongated['RET'] = universe_df_with_external_factors_elongated['RET'].shift(1)\n",
    "\n",
    "#We want to remove our minimum date so that we have an equal number of periods across securities. Here we find the minimum date, add a day, and remove rows with that date from our dataframe\n",
    "dtrmval = np.min(universe_df_with_external_factors_elongated.date)\n",
    "dtrmvalrangemax = dtrmval + timedelta(days=1)\n",
    "\n",
    "#Filter out our beginning date\n",
    "universe_df_with_external_factors_filtered = universe_df_with_external_factors_elongated[(universe_df_with_external_factors_elongated[\"date\"] >= dtrmvalrangemax)]"
   ]
  },
  {
   "cell_type": "code",
   "execution_count": 9,
   "id": "7b05be01-9ea8-48f0-b6e1-a665f3aea4c9",
   "metadata": {},
   "outputs": [],
   "source": [
    "#columns_to_regress = ['Annualized Percent Change of GDP from Preceding Period, Seasonally Adjusted','CPI (USACPALTT01CTGYM)','UNRATE']\n",
    "\n",
    "#Generate our list of unique tickers using observation df\n",
    "listofPERMNO = observation_df[pd.to_numeric(observation_df['COUNT(PERMNO)']) >=120]\n",
    "uniqueTickerList = listofPERMNO['PERMNO']"
   ]
  },
  {
   "cell_type": "code",
   "execution_count": null,
   "id": "c9e455b0-7490-43ae-b13a-8f6e4df72a36",
   "metadata": {},
   "outputs": [],
   "source": [
    "#Initialize large df to drop results of regression for each security at each regression date\n",
    "containerdf = pd.DataFrame()\n",
    "\n",
    "#Set our lookback window to 24 periods (months in this case). This means that we will run a regression for each period (after the first 24 months) using the previous 24 months as data\n",
    "LookBack_Window=24\n",
    "\n",
    "for ticker in uniqueTickerList:\n",
    "    ticker_specific_universe_df = universe_df_with_external_factors_filtered.loc[universe_df_with_external_factors_filtered['PERMNO'] == ticker]\n",
    "    ticker_specific_universe_df[\"B0\"] = 0\n",
    "    ticker_specific_universe_df[\"R_squared\"] = 0\n",
    "    ticker_specific_universe_df[\"Beta_CPI\"] = 0\n",
    "    ticker_specific_universe_df[\"Beta_GDP\"] = 0\n",
    "    ticker_specific_universe_df[\"Beta_UnemRate\"] = 0\n",
    "    ticker_specific_universe_df[\"p_value_Alpha\"] = 0\n",
    "    ticker_specific_universe_df[\"p_value_Market\"] = 0\n",
    "    ticker_specific_universe_df[\"p_value_GDP\"] = 0\n",
    "    ticker_specific_universe_df[\"p_value_UnemRate\"] = 0\n",
    "    ticker_specific_universe_df= ticker_specific_universe_df.drop([\"FACSHR\",\"ACPERM\",\"ACCOMP\",\"DLPRC\",\"BID\",\"ASK\",\"COUNT(PERMNO)\",\"DCLRDT\",\"DLPDT\",\"PAYDT\",\"RCRDDT\",\"FACPR\",\"FACSHR\",\"ACPERM\",\"ACCOMP\",\"DLPRC\"],axis=1)\n",
    "    \n",
    "    #For each 24-month (2-year) span, train an OLS and collect the results \n",
    "    for x in range(0, len(ticker_specific_universe_df)-LookBack_Window-1):\n",
    "        # Define the independent variables (X) and dependent variable (y)\n",
    "        X = ticker_specific_universe_df[[\"Annualized Percent Change of GDP from Preceding Period, Seasonally Adjusted\",\"CPI (USACPALTT01CTGYM)\",\"UNRATE\"]][x:x+LookBack_Window]\n",
    "        Y = ticker_specific_universe_df['RET'][x:x+LookBack_Window]\n",
    "\n",
    "        #Add a constant term to the independent variables, check impact\n",
    "        X = sm.add_constant(X)\n",
    "    \n",
    "        #Fit the linear regression model\n",
    "        model = sm.OLS(Y, X)\n",
    "        results = model.fit()\n",
    "        \n",
    "        #Get the coefficients\n",
    "        ticker_specific_universe_df.loc[ticker_specific_universe_df.index[x+1+LookBack_Window], 'B0'] = results.params[0]\n",
    "        ticker_specific_universe_df.loc[ticker_specific_universe_df.index[x+1+LookBack_Window], 'Beta_GDP'] = results.params[1]\n",
    "        ticker_specific_universe_df.loc[ticker_specific_universe_df.index[x+1+LookBack_Window], 'Beta_CPI'] = results.params[2]\n",
    "        ticker_specific_universe_df.loc[ticker_specific_universe_df.index[x+1+LookBack_Window], 'Beta_UnemRate'] = results.params[3]\n",
    "        ticker_specific_universe_df.loc[ticker_specific_universe_df.index[x+1+LookBack_Window], 'R_squared'] = results.rsquared\n",
    "        ticker_specific_universe_df.loc[ticker_specific_universe_df.index[x+1+LookBack_Window], 'p_value_B0'] = results.pvalues[0]\n",
    "        ticker_specific_universe_df.loc[ticker_specific_universe_df.index[x+1+LookBack_Window], 'p_value_GDP'] = results.pvalues[1]\n",
    "        ticker_specific_universe_df.loc[ticker_specific_universe_df.index[x+1+LookBack_Window], 'p_value_CPI'] = results.pvalues[2]\n",
    "        ticker_specific_universe_df.loc[ticker_specific_universe_df.index[x+1+LookBack_Window], 'p_value_UnemRate'] = results.pvalues[3]\n",
    "    \n",
    "    #Add ticker dataframe to larger container dataframe\n",
    "    containerdf = pd.concat([containerdf, ticker_specific_universe_df], ignore_index=True)\n",
    "\n",
    "display(containerdf)"
   ]
  }
 ],
 "metadata": {
  "kernelspec": {
   "display_name": "Python 3 (ipykernel)",
   "language": "python",
   "name": "python3"
  },
  "language_info": {
   "codemirror_mode": {
    "name": "ipython",
    "version": 3
   },
   "file_extension": ".py",
   "mimetype": "text/x-python",
   "name": "python",
   "nbconvert_exporter": "python",
   "pygments_lexer": "ipython3",
   "version": "3.12.4"
  }
 },
 "nbformat": 4,
 "nbformat_minor": 5
}
